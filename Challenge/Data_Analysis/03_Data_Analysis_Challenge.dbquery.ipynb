{
 "cells": [
  {
   "cell_type": "code",
   "execution_count": 0,
   "metadata": {
    "application/vnd.databricks.v1+cell": {
     "cellMetadata": {},
     "inputWidgets": {},
     "nuid": "234659fb-2e6a-4e14-9b72-67b7a6d2cb5e",
     "showTitle": false,
     "tableResultSettingsMap": {},
     "title": ""
    }
   },
   "outputs": [],
   "source": [
    "/*Challenge 03 réalisé par Joël Hirschi et Jérôme Attinger*/\n",
    "/*Trouvez les 5 produits les plus chers en termes de prix (ListPrice).(Table : Product)*/\n",
    "\n",
    "SELECT ProductID, name, ProductNumber, ListPrice\n",
    "FROM jeromeattinger_lakehouse.bronze.product\n",
    "ORDER BY ListPrice DESC\n",
    "LIMIT 5"
   ]
  }
 ],
 "metadata": {
  "application/vnd.databricks.v1+notebook": {
   "computePreferences": null,
   "dashboards": [],
   "environmentMetadata": null,
   "language": "sql",
   "notebookMetadata": {
    "sqlQueryOptions": {
     "applyAutoLimit": true,
     "catalog": "jeromeattinger_lakehouse",
     "schema": "bronze"
    }
   },
   "notebookName": "03_Data_Analysis_Challenge.dbquery.ipynb",
   "widgets": {}
  },
  "language_info": {
   "name": "sql"
  }
 },
 "nbformat": 4,
 "nbformat_minor": 0
}
