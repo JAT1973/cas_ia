{
 "cells": [
  {
   "cell_type": "code",
   "execution_count": 0,
   "metadata": {
    "application/vnd.databricks.v1+cell": {
     "cellMetadata": {},
     "inputWidgets": {},
     "nuid": "b3da859d-cb81-4714-86fa-689cedfed9a4",
     "showTitle": false,
     "tableResultSettingsMap": {},
     "title": ""
    }
   },
   "outputs": [],
   "source": [
    "-- file changed\n",
    "\n",
    "SELECT\n",
    "  t1.Name AS ProductName,\n",
    "  t1.ListPrice AS ProductPrice,\n",
    "  t2.Name AS CategoryName\n",
    "FROM\n",
    "  jeromeattinger_lakehouse.bronze.product AS t1\n",
    "  JOIN jeromeattinger_lakehouse.bronze.productcategory AS t2 ON t1.ProductCategoryID = t2.ProductCategoryID\n",
    "ORDER BY\n",
    "  t1.ListPrice ASC"
   ]
  }
 ],
 "metadata": {
  "application/vnd.databricks.v1+notebook": {
   "computePreferences": null,
   "dashboards": [],
   "environmentMetadata": null,
   "language": "sql",
   "notebookMetadata": {
    "sqlQueryOptions": {
     "applyAutoLimit": true,
     "catalog": "ges_cas_ia_2025",
     "schema": "default"
    }
   },
   "notebookName": "01_Data_Analysis_Challenge.dbquery.ipynb",
   "widgets": {}
  },
  "language_info": {
   "name": "sql"
  }
 },
 "nbformat": 4,
 "nbformat_minor": 0
}
