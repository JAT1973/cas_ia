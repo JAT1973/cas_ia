{
 "cells": [
  {
   "cell_type": "code",
   "execution_count": 0,
   "metadata": {
    "application/vnd.databricks.v1+cell": {
     "cellMetadata": {
      "byteLimit": 10485760,
      "rowLimit": 1000
     },
     "inputWidgets": {},
     "nuid": "e44f6c25-a560-43ca-bec8-25b1fa5048f2",
     "showTitle": false,
     "tableResultSettingsMap": {},
     "title": ""
    }
   },
   "outputs": [],
   "source": [
    "/*Challenge 10 réalisé par Joël Hirschi et Jérôme Attinger*/\n",
    "/*Calculez le total des remises (UnitPriceDiscount) appliquées par produit et identifiez celui avec la remise totale la plus élevée.(Table : SalesOrderDetail)*/\n",
    "\n",
    "\n",
    "SELECT t1.ProductID, \n",
    "       t2.Name AS ProductName, \n",
    "       round(SUM(t1.OrderQty * t1.UnitPrice * t1.UnitPriceDiscount), 2) AS TotalDiscount\n",
    "FROM salesorderdetail AS t1\n",
    "JOIN product AS t2\n",
    "ON t1.ProductID = t2.ProductID\n",
    "GROUP BY t1.ProductID, t2.Name\n",
    "ORDER BY TotalDiscount DESC\n",
    "--LIMIT 1"
   ]
  }
 ],
 "metadata": {
  "application/vnd.databricks.v1+notebook": {
   "computePreferences": null,
   "dashboards": [],
   "environmentMetadata": null,
   "language": "sql",
   "notebookMetadata": {
    "sqlQueryOptions": {
     "applyAutoLimit": true,
     "catalog": "jeromeattinger_lakehouse",
     "schema": "bronze"
    }
   },
   "notebookName": "10_Data_Analysis_Challenge.dbquery.ipynb",
   "widgets": {}
  },
  "language_info": {
   "name": "sql"
  }
 },
 "nbformat": 4,
 "nbformat_minor": 0
}
