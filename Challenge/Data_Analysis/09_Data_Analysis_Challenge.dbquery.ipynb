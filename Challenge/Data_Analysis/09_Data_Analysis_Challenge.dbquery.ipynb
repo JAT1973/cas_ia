{
 "cells": [
  {
   "cell_type": "code",
   "execution_count": 0,
   "metadata": {
    "application/vnd.databricks.v1+cell": {
     "cellMetadata": {},
     "inputWidgets": {},
     "nuid": "896e85bf-baca-4832-975f-33da18bfaa04",
     "showTitle": false,
     "tableResultSettingsMap": {},
     "title": ""
    }
   },
   "outputs": [],
   "source": [
    "/*Challenge 09 réalisé par Joël Hirschi et Jérôme Attinger*/\n",
    "/*Calculez les revenus totaux générés pour chaque catégorie de produit. (Tables : SalesOrderHeader, SalesOrderDetail, Product, ProductCategory)*/\n",
    "\n",
    "\n",
    "SELECT t4.ProductCategoryID, t4.Name AS ProductCategoryName, ROUND(SUM(t1.LineTotal), 2) AS TotalSales\n",
    "FROM jeromeattinger_lakehouse.bronze.salesorderdetail AS t1\n",
    "JOIN jeromeattinger_lakehouse.bronze.salesorderheader AS t2 ON t1.SalesOrderID = t2.SalesOrderID\n",
    "JOIN jeromeattinger_lakehouse.bronze.product AS t3 ON t1.ProductID = t3.ProductID\n",
    "JOIN jeromeattinger_lakehouse.bronze.productcategory AS t4 ON t3.ProductCategoryID = t4.ProductCategoryID\n",
    "GROUP BY t4.ProductCategoryID, t4.Name\n",
    "ORDER BY TotalSales DESC"
   ]
  }
 ],
 "metadata": {
  "application/vnd.databricks.v1+notebook": {
   "computePreferences": null,
   "dashboards": [],
   "environmentMetadata": null,
   "language": "sql",
   "notebookMetadata": {
    "sqlQueryOptions": {
     "applyAutoLimit": true,
     "catalog": "jeromeattinger_lakehouse",
     "schema": "bronze"
    }
   },
   "notebookName": "09_Data_Analysis_Challenge.dbquery.ipynb",
   "widgets": {}
  },
  "language_info": {
   "name": "sql"
  }
 },
 "nbformat": 4,
 "nbformat_minor": 0
}
