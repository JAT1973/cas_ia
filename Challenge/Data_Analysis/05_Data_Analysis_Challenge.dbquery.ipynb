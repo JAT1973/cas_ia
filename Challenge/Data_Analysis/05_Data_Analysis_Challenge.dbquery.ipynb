{
 "cells": [
  {
   "cell_type": "code",
   "execution_count": 0,
   "metadata": {
    "application/vnd.databricks.v1+cell": {
     "cellMetadata": {},
     "inputWidgets": {},
     "nuid": "eabf223f-23a6-432a-9fc7-68177f84277d",
     "showTitle": false,
     "tableResultSettingsMap": {},
     "title": ""
    }
   },
   "outputs": [],
   "source": [
    "/*Challenge 05 réalisé par Joël Hirschi et Jérôme Attinger*/\n",
    "/*Calculez le montant total des revenus générés par toutes les commandes (TotalDue)(Table : SalesOrderHeader)*/\n",
    "\n",
    "SELECT SUM(TotalDue) AS FormattedTotalDue\n",
    "FROM jeromeattinger_lakehouse.bronze.salesorderheader;"
   ]
  }
 ],
 "metadata": {
  "application/vnd.databricks.v1+notebook": {
   "computePreferences": null,
   "dashboards": [],
   "environmentMetadata": null,
   "language": "sql",
   "notebookMetadata": {
    "sqlQueryOptions": {
     "applyAutoLimit": true,
     "catalog": "jeromeattinger_lakehouse",
     "schema": "bronze"
    }
   },
   "notebookName": "05_Data_Analysis_Challenge.dbquery.ipynb",
   "widgets": {}
  },
  "language_info": {
   "name": "sql"
  }
 },
 "nbformat": 4,
 "nbformat_minor": 0
}
