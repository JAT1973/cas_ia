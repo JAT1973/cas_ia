{
 "cells": [
  {
   "cell_type": "code",
   "execution_count": 0,
   "metadata": {
    "application/vnd.databricks.v1+cell": {
     "cellMetadata": {
      "byteLimit": 10485760,
      "rowLimit": 1000
     },
     "inputWidgets": {},
     "nuid": "ceaea94c-3140-43fe-884e-d3257e1b081e",
     "showTitle": false,
     "tableResultSettingsMap": {},
     "title": ""
    }
   },
   "outputs": [],
   "source": [
    "/*Challenge 08 réalisé par Joël Hirschi et Jérôme Attinger*/\n",
    "/*Identifiez les 3 clients ayant généré le plus de revenus totaux à travers leurs commandes.(Tables : SalesOrderHeader, Customer)*/\n",
    "\n",
    "SELECT \n",
    "    t1.CustomerID, \n",
    "    t1.FirstName, \n",
    "    t1.LastName, \n",
    "    ROUND(SUM(t2.TotalDue), 2) AS TotalSales\n",
    "FROM \n",
    "    jeromeattinger_lakehouse.bronze.customer AS t1\n",
    "INNER JOIN \n",
    "    jeromeattinger_lakehouse.bronze.salesorderheader AS t2\n",
    "ON \n",
    "    t1.CustomerID = t2.CustomerID\n",
    "GROUP BY \n",
    "    t1.CustomerID, t1.FirstName, t1.LastName\n",
    "ORDER BY \n",
    "    TotalSales DESC\n",
    "LIMIT 3;"
   ]
  }
 ],
 "metadata": {
  "application/vnd.databricks.v1+notebook": {
   "computePreferences": null,
   "dashboards": [],
   "environmentMetadata": null,
   "language": "sql",
   "notebookMetadata": {
    "sqlQueryOptions": {
     "applyAutoLimit": true,
     "catalog": "jeromeattinger_lakehouse",
     "schema": "bronze"
    }
   },
   "notebookName": "08_Data_Analysis_Challenge.dbquery.ipynb",
   "widgets": {}
  },
  "language_info": {
   "name": "sql"
  }
 },
 "nbformat": 4,
 "nbformat_minor": 0
}
