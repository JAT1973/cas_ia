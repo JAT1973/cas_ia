{
 "cells": [
  {
   "cell_type": "code",
   "execution_count": 0,
   "metadata": {
    "application/vnd.databricks.v1+cell": {
     "cellMetadata": {},
     "inputWidgets": {},
     "nuid": "98e00ea2-5202-4503-9a00-1145f3ea5915",
     "showTitle": false,
     "tableResultSettingsMap": {},
     "title": ""
    }
   },
   "outputs": [],
   "source": [
    "/*Challenge 06 réalisé par Joël Hirschi et Jérôme Attinger*/\n",
    "/*Trouvez le nombre de commandes pour chaque région (StateProvince), triées par région. (Tables : Address, SalesOrderHeader)*/\n",
    "\n",
    "SELECT t2.StateProvince, COUNT(*) AS NumberOfCommand\n",
    "FROM jeromeattinger_lakehouse.bronze.salesorderheader AS t1\n",
    "JOIN jeromeattinger_lakehouse.bronze.address AS t2\n",
    "ON t1.BillToAddressID = t2.AddressID\n",
    "GROUP BY t2.StateProvince\n",
    "ORDER BY t2.StateProvince"
   ]
  }
 ],
 "metadata": {
  "application/vnd.databricks.v1+notebook": {
   "computePreferences": null,
   "dashboards": [],
   "environmentMetadata": null,
   "language": "sql",
   "notebookMetadata": {
    "sqlQueryOptions": {
     "applyAutoLimit": true,
     "catalog": "jeromeattinger_lakehouse",
     "schema": "bronze"
    }
   },
   "notebookName": "06_Data_Analysis_Challenge.dbquery.ipynb",
   "widgets": {}
  },
  "language_info": {
   "name": "sql"
  }
 },
 "nbformat": 4,
 "nbformat_minor": 0
}
