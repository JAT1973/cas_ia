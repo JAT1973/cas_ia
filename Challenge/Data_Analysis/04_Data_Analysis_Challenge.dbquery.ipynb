{
 "cells": [
  {
   "cell_type": "code",
   "execution_count": 0,
   "metadata": {
    "application/vnd.databricks.v1+cell": {
     "cellMetadata": {
      "byteLimit": 10485760,
      "rowLimit": 1000
     },
     "inputWidgets": {},
     "nuid": "662305bf-2fec-4014-afa8-03c26145f180",
     "showTitle": false,
     "tableResultSettingsMap": {},
     "title": ""
    }
   },
   "outputs": [],
   "source": [
    "/*Challenge 04 réalisé par Joël Hirschi et Jérôme Attinger*/\n",
    "/*Récupérez tous les produits encore en vente (SellEndDate IS NULL) et triés par leur prix décroissant.*/\n",
    "\n",
    "SELECT productID, name, ProductNumber, ListPrice\n",
    "FROM jeromeattinger_lakehouse.bronze.product\n",
    "WHERE SellEndDate IS null\n",
    "ORDER BY ListPrice DESC\n"
   ]
  }
 ],
 "metadata": {
  "application/vnd.databricks.v1+notebook": {
   "computePreferences": null,
   "dashboards": [],
   "environmentMetadata": null,
   "language": "sql",
   "notebookMetadata": {
    "sqlQueryOptions": {
     "applyAutoLimit": true,
     "catalog": "jeromeattinger_lakehouse",
     "schema": "bronze"
    }
   },
   "notebookName": "04_Data_Analysis_Challenge.dbquery.ipynb",
   "widgets": {}
  },
  "language_info": {
   "name": "sql"
  }
 },
 "nbformat": 4,
 "nbformat_minor": 0
}
