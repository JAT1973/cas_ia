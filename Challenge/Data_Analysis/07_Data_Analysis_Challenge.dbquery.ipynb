{
 "cells": [
  {
   "cell_type": "code",
   "execution_count": 0,
   "metadata": {
    "application/vnd.databricks.v1+cell": {
     "cellMetadata": {
      "byteLimit": 10485760,
      "rowLimit": 1000
     },
     "inputWidgets": {},
     "nuid": "2f8fceb0-efa0-4b0f-9b16-8e2503c5d9c8",
     "showTitle": false,
     "tableResultSettingsMap": {},
     "title": ""
    }
   },
   "outputs": [],
   "source": [
    "/*Challenge 07 réalisé par Joël Hirschi et Jérôme Attinger*/\n",
    "/*Affichez le nombre total de produits dans chaque catégorie de produit.(Tables : Product, ProductCategory)*/\n",
    "\n",
    "SELECT t2.ProductCategoryID, t2.Name AS ProductCategoryName, COUNT(t1.ProductID) AS NumberOfProduct\n",
    "FROM jeromeattinger_lakehouse.bronze.product AS t1\n",
    "JOIN jeromeattinger_lakehouse.bronze.productcategory AS t2\n",
    "ON t1.ProductCategoryID = t2.ProductCategoryID\n",
    "GROUP BY t2.ProductCategoryID, t2.Name\n",
    "ORDER BY t2.ProductCategoryID"
   ]
  }
 ],
 "metadata": {
  "application/vnd.databricks.v1+notebook": {
   "computePreferences": null,
   "dashboards": [],
   "environmentMetadata": null,
   "language": "sql",
   "notebookMetadata": {
    "pythonIndentUnit": 4,
    "sqlQueryOptions": {
     "applyAutoLimit": true,
     "catalog": "jeromeattinger_lakehouse",
     "schema": "bronze"
    }
   },
   "notebookName": "07_Data_Analysis_Challenge.dbquery.ipynb",
   "widgets": {}
  },
  "language_info": {
   "name": "sql"
  }
 },
 "nbformat": 4,
 "nbformat_minor": 0
}
