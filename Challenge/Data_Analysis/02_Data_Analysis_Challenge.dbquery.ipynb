{
 "cells": [
  {
   "cell_type": "code",
   "execution_count": 0,
   "metadata": {
    "application/vnd.databricks.v1+cell": {
     "cellMetadata": {},
     "inputWidgets": {},
     "nuid": "7e0f852f-dbc6-4995-9a90-24eafdb3e71c",
     "showTitle": false,
     "tableResultSettingsMap": {},
     "title": ""
    }
   },
   "outputs": [],
   "source": [
    "-- file changed\n",
    "\n",
    "SELECT \n",
    "    t1.CustomerID, \n",
    "    t1.FirstName, \n",
    "    t1.LastName, \n",
    "    COUNT(t2.SalesOrderID) AS NumberOfOrder \n",
    "FROM \n",
    "    jeromeattinger_lakehouse.bronze.customer AS t1\n",
    "    INNER JOIN jeromeattinger_lakehouse.bronze.salesorderheader AS t2\n",
    "    ON t1.CustomerID = t2.CustomerID\n",
    "GROUP BY \n",
    "    t1.CustomerID, \n",
    "    t1.FirstName, \n",
    "    t1.LastName\n",
    "ORDER BY\n",
    "    t1.CustomerID"
   ]
  }
 ],
 "metadata": {
  "application/vnd.databricks.v1+notebook": {
   "computePreferences": null,
   "dashboards": [],
   "environmentMetadata": null,
   "language": "sql",
   "notebookMetadata": {
    "pythonIndentUnit": 4,
    "sqlQueryOptions": {
     "applyAutoLimit": true,
     "catalog": "ges_cas_ia_2025",
     "schema": "default"
    }
   },
   "notebookName": "02_Data_Analysis_Challenge.dbquery.ipynb",
   "widgets": {}
  },
  "language_info": {
   "name": "sql"
  }
 },
 "nbformat": 4,
 "nbformat_minor": 0
}
