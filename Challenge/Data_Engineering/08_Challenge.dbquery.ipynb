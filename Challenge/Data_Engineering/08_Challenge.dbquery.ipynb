{
 "cells": [
  {
   "cell_type": "code",
   "execution_count": 0,
   "metadata": {
    "application/vnd.databricks.v1+cell": {
     "cellMetadata": {
      "byteLimit": 10485760,
      "rowLimit": 64000
     },
     "inputWidgets": {},
     "nuid": "14da92d6-2f7c-4cb5-a097-81a078d6e1c1",
     "showTitle": false,
     "tableResultSettingsMap": {},
     "title": ""
    }
   },
   "outputs": [],
   "source": [
    "USE CATALOG jeromeattinger_lakehouse;\n",
    "USE SCHEMA gold;\n",
    "\n",
    "CREATE OR REPLACE VIEW dim_constumer_secured AS\n",
    "SELECT\n",
    "    _tf_dim_customer_id,\n",
    "    cust_customer_id,\n",
    "    cust_title,\n",
    "    CASE\n",
    "        WHEN current_user IN ('authorized_user1@he-arc.ch', 'authorized_user1@he-arc.ch') THEN cust_first_name\n",
    "        ELSE 'REDACTED'\n",
    "    END AS cust_first_name_secured,\n",
    "    CASE \n",
    "        WHEN current_user IN  ('authorized_user1@he-arc.ch', 'authorized_user1@he-arc.ch') THEN cust_last_name\n",
    "        ELSE 'REDACTED'\n",
    "    END AS cust_last_name_secured,\n",
    "    cust_middle_name,\n",
    "    cust_suffix,\n",
    "    cust_company_name,\n",
    "    cust_sales_person,\n",
    "    CASE \n",
    "        WHEN current_user IN  ('authorized_user1@he-arc.ch', 'authorized_user1@he-arc.ch') THEN cust_email_address\n",
    "        ELSE 'REDACTED'\n",
    "    END AS cust_email_address_secured,\n",
    "    cust_phone,\n",
    "    _tf_create_date,\n",
    "    _tf_update_date\n",
    "FROM dim_customer;"
   ]
  }
 ],
 "metadata": {
  "application/vnd.databricks.v1+notebook": {
   "computePreferences": null,
   "dashboards": [],
   "environmentMetadata": null,
   "language": "sql",
   "notebookMetadata": {
    "pythonIndentUnit": 4,
    "sqlQueryOptions": {
     "applyAutoLimit": false,
     "catalog": "dbw_dataplatform_dev_atti_2",
     "schema": "default"
    }
   },
   "notebookName": "08_Challenge.dbquery.ipynb",
   "widgets": {}
  },
  "language_info": {
   "name": "sql"
  }
 },
 "nbformat": 4,
 "nbformat_minor": 0
}
