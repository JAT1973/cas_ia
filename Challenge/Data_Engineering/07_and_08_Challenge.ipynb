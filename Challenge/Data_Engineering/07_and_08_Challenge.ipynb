{
 "cells": [
  {
   "cell_type": "code",
   "execution_count": 0,
   "metadata": {
    "application/vnd.databricks.v1+cell": {
     "cellMetadata": {
      "byteLimit": 2048000,
      "rowLimit": 10000
     },
     "inputWidgets": {},
     "nuid": "2fa044a2-8bd8-4fdb-b1a9-59061a724c1c",
     "showTitle": false,
     "tableResultSettingsMap": {},
     "title": ""
    }
   },
   "outputs": [],
   "source": [
    "%sql\n",
    "USE CATALOG jeromeattinger_lakehouse;\n",
    "USE SCHEMA gold;\n",
    "\n",
    "CREATE OR REPLACE VIEW dim_constumer_secured AS\n",
    "SELECT \n",
    "    CASE \n",
    "        WHEN current_user() IN ('authorized_user1', 'authorized_user2') THEN cust_first_name\n",
    "        ELSE 'REDACTED'\n",
    "    END AS cust_first_name,\n",
    "    CASE \n",
    "        WHEN current_user() IN ('authorized_user1', 'authorized_user2') THEN cust_last_name\n",
    "        ELSE 'REDACTED'\n",
    "    END AS cust_last_name,\n",
    "    *\n",
    "FROM dim_customer;\n",
    "\n"
   ]
  }
 ],
 "metadata": {
  "application/vnd.databricks.v1+notebook": {
   "computePreferences": null,
   "dashboards": [],
   "environmentMetadata": {
    "base_environment": "",
    "client": "1"
   },
   "language": "python",
   "notebookMetadata": {
    "pythonIndentUnit": 4
   },
   "notebookName": "07_and_08_Challenge",
   "widgets": {}
  },
  "language_info": {
   "name": "python"
  }
 },
 "nbformat": 4,
 "nbformat_minor": 0
}
